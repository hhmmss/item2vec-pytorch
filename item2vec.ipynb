{
  "cells": [
    {
      "cell_type": "code",
      "metadata": {},
      "source": [
        "# Este es un cuaderno de Jupyter vacío\n",
        "# Puedes agregar celdas de código o de texto aquí\n\n",
        "# Por ejemplo, puedes escribir código en esta celda:\n",
        "print(\"¡Hola, mundo!\")\n\n",
        "# O simplemente añadir una celda de texto para tomar notas o explicaciones."
      ],
      "outputs": []
    }
  ],
  "metadata": {
    "kernelspec": {
      "display_name": "Python 3",
      "language": "python",
      "name": "python3"
    },
    "language_info": {
      "codemirror_mode": {
        "name": "ipython",
        "version": 3
      },
      "file_extension": ".py",
      "mimetype": "text/x-python",
      "name": "python",
      "nbconvert_exporter": "python",
      "pygments_lexer": "ipython3",
      "version": "3.9.7"
    }
  },
  "nbformat": 4,
  "nbformat_minor": 5
}

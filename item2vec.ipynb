# Este es un cuaderno de Jupyter vacío
# Puedes agregar celdas de código o de texto aquí

# Por ejemplo, puedes escribir código en esta celda:
print("¡Hola, mundo!")

# O simplemente añadir una celda de texto para tomar notas o explicaciones.
